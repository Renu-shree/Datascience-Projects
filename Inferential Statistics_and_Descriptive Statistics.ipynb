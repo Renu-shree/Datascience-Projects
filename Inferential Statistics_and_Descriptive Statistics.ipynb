{
 "cells": [
  {
   "cell_type": "markdown",
   "id": "0ef18b96",
   "metadata": {},
   "source": [
    "##  Statistics and Exploratory Data Analysis Project -SET 1"
   ]
  },
  {
   "cell_type": "markdown",
   "id": "8f261c31",
   "metadata": {},
   "source": [
    "### PART-A ( Concept Based)¶"
   ]
  },
  {
   "cell_type": "raw",
   "id": "04814b02",
   "metadata": {},
   "source": [
    "The following are the ages of 30 customers who ordered an EV scooter from Zen Automotives.ee.\n",
    "\n",
    "Age : 42 44 62 35 20 30 56 20 23 41 55 22 31 27 66 21 18 24 42 25 32 50 31 26 36 39 40 18 36 22"
   ]
  },
  {
   "cell_type": "code",
   "execution_count": 2,
   "id": "63c4db52",
   "metadata": {},
   "outputs": [],
   "source": [
    "import matplotlib.pyplot as plt\n",
    "import seaborn as sns\n",
    "import warnings\n",
    "import random\n",
    "import pandas as pd\n",
    "import numpy as np\n",
    "from scipy import stats\n",
    "from scipy.stats import shapiro\n",
    "from scipy.stats import mannwhitneyu\n",
    "from scipy.stats import ttest_ind\n",
    "from sklearn.preprocessing import StandardScaler\n",
    "from scipy.stats import t, chi2\n",
    "\n",
    "import warnings\n",
    "warnings.filterwarnings(\"ignore\")"
   ]
  },
  {
   "cell_type": "markdown",
   "id": "2367e5d0",
   "metadata": {},
   "source": [
    "Q1. Compute the mean, median and the mode of the data"
   ]
  },
  {
   "cell_type": "code",
   "execution_count": 4,
   "id": "e9c8751b",
   "metadata": {},
   "outputs": [
    {
     "name": "stdout",
     "output_type": "stream",
     "text": [
      "Mean: 34.46666666666667\n",
      "Median: 31.5\n",
      "Mode: [18]\n"
     ]
    }
   ],
   "source": [
    "data = [42, 44, 62, 35, 20, 30, 56, 20, 23, 41, 55, 22, 31, 27, 66, 21, 18, 24, 42, 25, 32, 50, 31, 26, 36, 39, 40, 18, 36, 22]\n",
    "\n",
    "mean = np.mean(data)\n",
    "median = np.median(data)\n",
    "mode = stats.mode(data)\n",
    "\n",
    "print(\"Mean:\", mean)\n",
    "print(\"Median:\", median)\n",
    "print(\"Mode:\", mode[0])"
   ]
  },
  {
   "cell_type": "markdown",
   "id": "1fdc5555",
   "metadata": {},
   "source": [
    "Q2. Compute the range , variance and standard deviation of customer ages"
   ]
  },
  {
   "cell_type": "code",
   "execution_count": 3,
   "id": "9bcf4f54",
   "metadata": {},
   "outputs": [
    {
     "name": "stdout",
     "output_type": "stream",
     "text": [
      "Range: 48\n",
      "Variance: 171.4488888888889\n",
      "Standard Deviation: 13.093849277003645\n"
     ]
    }
   ],
   "source": [
    "range_age = max(data) - min(data)\n",
    "variance = np.var(data)\n",
    "std_dev = np.std(data)\n",
    "\n",
    "print(\"Range:\", range_age)\n",
    "print(\"Variance:\", variance)\n",
    "print(\"Standard Deviation:\", std_dev)"
   ]
  },
  {
   "cell_type": "markdown",
   "id": "51b9d6d1",
   "metadata": {},
   "source": [
    "Q3. Find the mean deviation for the data .\n"
   ]
  },
  {
   "cell_type": "code",
   "execution_count": 4,
   "id": "46f561f2",
   "metadata": {},
   "outputs": [
    {
     "name": "stdout",
     "output_type": "stream",
     "text": [
      "Mean Deviation: 10.764444444444443\n"
     ]
    }
   ],
   "source": [
    "mean = sum(data) / len(data)\n",
    "\n",
    "sum_deviation = sum(abs(x - mean) for x in data)\n",
    "\n",
    "mean_deviation = sum_deviation / len(data)\n",
    "\n",
    "print(\"Mean Deviation:\", mean_deviation)"
   ]
  },
  {
   "cell_type": "markdown",
   "id": "86df40f2",
   "metadata": {},
   "source": [
    "Q4. Calculate the Pearson coefficient of skewness and comment on the\n",
    "skewness of the data"
   ]
  },
  {
   "cell_type": "code",
   "execution_count": 5,
   "id": "342fc6b7",
   "metadata": {},
   "outputs": [
    {
     "name": "stdout",
     "output_type": "stream",
     "text": [
      "Pearson coefficient of skewness: 0.6797084502592238\n"
     ]
    }
   ],
   "source": [
    "x_bar = np.mean(data)\n",
    "md = np.median(data)\n",
    "s = np.std(data)\n",
    "\n",
    "pearson_skewness = 3 * (x_bar - md) / s\n",
    "print(\"Pearson coefficient of skewness:\", pearson_skewness)"
   ]
  },
  {
   "cell_type": "markdown",
   "id": "4e2fcd78",
   "metadata": {},
   "source": [
    "as the coefficient is positive, the distribution is positively skewed."
   ]
  },
  {
   "cell_type": "markdown",
   "id": "3e2949c8",
   "metadata": {},
   "source": [
    "Q5. Count the number of data values that fall within two standard deviations of\n",
    "the mean. Compare this with the answer from Chebyshev’s Theorem"
   ]
  },
  {
   "cell_type": "code",
   "execution_count": 6,
   "id": "437ded45",
   "metadata": {},
   "outputs": [
    {
     "name": "stdout",
     "output_type": "stream",
     "text": [
      "Number of data values within two standard deviations of the mean: 28\n"
     ]
    }
   ],
   "source": [
    "mean = np.mean(data)\n",
    "std_dev = np.std(data)\n",
    "\n",
    "lower_bound = mean - 2 * std_dev\n",
    "upper_bound = mean + 2 * std_dev\n",
    "\n",
    "count = np.sum((data >= lower_bound) & (data <= upper_bound))\n",
    "\n",
    "print(\"Number of data values within two standard deviations of the mean:\", count)"
   ]
  },
  {
   "cell_type": "code",
   "execution_count": 7,
   "id": "5cd61edc",
   "metadata": {},
   "outputs": [
    {
     "data": {
      "text/plain": [
       "30"
      ]
     },
     "execution_count": 7,
     "metadata": {},
     "output_type": "execute_result"
    }
   ],
   "source": [
    "len(data)"
   ]
  },
  {
   "cell_type": "markdown",
   "id": "c71df9a9",
   "metadata": {},
   "source": [
    "Q6. Find the three quartiles and the interquartile range (IQR)."
   ]
  },
  {
   "cell_type": "code",
   "execution_count": 8,
   "id": "cd88f1eb",
   "metadata": {},
   "outputs": [
    {
     "name": "stdout",
     "output_type": "stream",
     "text": [
      "First Quartile: 23.25\n",
      "Second Quartile (Median): 31.5\n",
      "Third Quartile: 41.75\n",
      "Interquartile Range (IQR): 18.5\n"
     ]
    }
   ],
   "source": [
    "q1 = np.percentile(data, 25)\n",
    "q2 = np.percentile(data, 50)  # same as median\n",
    "q3 = np.percentile(data, 75)\n",
    "iqr = q3 - q1\n",
    "\n",
    "print(\"First Quartile:\", q1)\n",
    "print(\"Second Quartile (Median):\", q2)\n",
    "print(\"Third Quartile:\", q3)\n",
    "print(\"Interquartile Range (IQR):\", iqr)"
   ]
  },
  {
   "cell_type": "markdown",
   "id": "444fd2da",
   "metadata": {},
   "source": [
    "Q7. Are there any outliers in the data set ?"
   ]
  },
  {
   "cell_type": "code",
   "execution_count": 9,
   "id": "f6672d5e",
   "metadata": {},
   "outputs": [
    {
     "name": "stdout",
     "output_type": "stream",
     "text": [
      "No outliers found.\n"
     ]
    }
   ],
   "source": [
    "lower_bound = q1 - 1.5 * iqr\n",
    "upper_bound = q3 + 1.5 * iqr\n",
    "outliers = []\n",
    "for i in data:\n",
    "    if i < lower_bound or i > upper_bound:\n",
    "        outliers.append(i)\n",
    "\n",
    "if len(outliers) > 0:\n",
    "    print(\"Outliers:\", outliers)\n",
    "else:\n",
    "    print(\"No outliers found.\")"
   ]
  },
  {
   "cell_type": "code",
   "execution_count": 10,
   "id": "d1c00bdc",
   "metadata": {},
   "outputs": [
    {
     "data": {
      "text/plain": [
       "array([], dtype=int64)"
      ]
     },
     "execution_count": 10,
     "metadata": {},
     "output_type": "execute_result"
    }
   ],
   "source": [
    "#2nd method\n",
    "\n",
    "data = np.array(data, dtype=np.int64)\n",
    "\n",
    "lower_bound = q1 - 1.5 * iqr\n",
    "upper_bound = q3 + 1.5 * iqr\n",
    "\n",
    "o1= data[(data < lower_bound) & (data > upper_bound)]\n",
    "o1"
   ]
  },
  {
   "cell_type": "markdown",
   "id": "b39c97f0",
   "metadata": {},
   "source": [
    "Q8. Draw a boxplot of the dataset to confirm "
   ]
  },
  {
   "cell_type": "code",
   "execution_count": 11,
   "id": "a5d4f7da",
   "metadata": {},
   "outputs": [
    {
     "data": {
      "image/png": "[encoded data removed]",
      "text/plain": [
       "<Figure size 640x480 with 1 Axes>"
      ]
     },
     "metadata": {},
     "output_type": "display_data"
    }
   ],
   "source": [
    "import matplotlib.pyplot as plt\n",
    "\n",
    "plt.boxplot(data)\n",
    "plt.title(\"Boxplot of Customer Ages\")\n",
    "plt.xlabel(\"Data\")\n",
    "plt.ylabel(\"Ages\")\n",
    "plt.show()"
   ]
  },
  {
   "cell_type": "markdown",
   "id": "48cf340a",
   "metadata": {},
   "source": [
    "Q9. Find the percentile rank of the datapoint 50"
   ]
  },
  {
   "cell_type": "code",
   "execution_count": 12,
   "id": "08cabfae",
   "metadata": {},
   "outputs": [
    {
     "name": "stdout",
     "output_type": "stream",
     "text": [
      "Percentile Rank of 50: 86.66666666666667\n"
     ]
    }
   ],
   "source": [
    "percentile_rank = stats.percentileofscore(data, 50)\n",
    "print(\"Percentile Rank of 50:\", percentile_rank)"
   ]
  },
  {
   "cell_type": "markdown",
   "id": "34cb84d7",
   "metadata": {},
   "source": [
    "Q10. What is the probability that a person ordering an EV scooter is above 50\n",
    "years old?"
   ]
  },
  {
   "cell_type": "code",
   "execution_count": 13,
   "id": "db6b08ca",
   "metadata": {},
   "outputs": [
    {
     "name": "stdout",
     "output_type": "stream",
     "text": [
      "Probability that a person ordering an EV scooter is above 50 years old: 0.13333333333333333\n"
     ]
    }
   ],
   "source": [
    "above_50_count = 0\n",
    "for i in data:\n",
    "    if i > 50:\n",
    "        above_50_count += 1\n",
    "\n",
    "\n",
    "probability = above_50_count / len(data)\n",
    "print(\"Probability that a person ordering an EV scooter is above 50 years old:\", probability)"
   ]
  },
  {
   "cell_type": "markdown",
   "id": "5fdf0895",
   "metadata": {},
   "source": [
    "Q11. Create a frequency distribution for the data and visualize it appropriately"
   ]
  },
  {
   "cell_type": "code",
   "execution_count": 14,
   "id": "bfd74102",
   "metadata": {
    "collapsed": true
   },
   "outputs": [
    {
     "name": "stdout",
     "output_type": "stream",
     "text": [
      "    Age  Frequency\n",
      "0    18          2\n",
      "1    20          2\n",
      "2    21          1\n",
      "3    22          2\n",
      "4    23          1\n",
      "5    24          1\n",
      "6    25          1\n",
      "7    26          1\n",
      "8    27          1\n",
      "9    30          1\n",
      "10   31          2\n",
      "11   32          1\n",
      "12   35          1\n",
      "13   36          2\n",
      "14   39          1\n",
      "15   40          1\n",
      "16   41          1\n",
      "17   42          2\n",
      "18   44          1\n",
      "19   50          1\n",
      "20   55          1\n",
      "21   56          1\n",
      "22   62          1\n",
      "23   66          1\n"
     ]
    }
   ],
   "source": [
    "df = pd.DataFrame({'Age': data})\n",
    "freq_table = df.value_counts().sort_index().reset_index()\n",
    "freq_table.columns = ['Age', 'Frequency']\n",
    "print(freq_table)\n"
   ]
  },
  {
   "cell_type": "code",
   "execution_count": 15,
   "id": "c6f9d586",
   "metadata": {},
   "outputs": [
    {
     "data": {
      "image/png": "[encoded data removed]",
      "text/plain": [
       "<Figure size 640x480 with 1 Axes>"
      ]
     },
     "metadata": {},
     "output_type": "display_data"
    }
   ],
   "source": [
    "plt.bar(freq_table['Age'], freq_table['Frequency'])\n",
    "plt.xlabel('Age')\n",
    "plt.ylabel('Frequency')\n",
    "plt.title('Frequency Distribution')\n",
    "plt.show()"
   ]
  },
  {
   "cell_type": "markdown",
   "id": "ccd27ab1",
   "metadata": {},
   "source": [
    "Q12. Create a probability distribution of the data and visualize it appropriately."
   ]
  },
  {
   "cell_type": "code",
   "execution_count": 16,
   "id": "41e53ef7",
   "metadata": {},
   "outputs": [
    {
     "name": "stdout",
     "output_type": "stream",
     "text": [
      "    Age  Frequency  Probability\n",
      "0    18          2     0.066667\n",
      "1    20          2     0.066667\n",
      "2    21          1     0.033333\n",
      "3    22          2     0.066667\n",
      "4    23          1     0.033333\n",
      "5    24          1     0.033333\n",
      "6    25          1     0.033333\n",
      "7    26          1     0.033333\n",
      "8    27          1     0.033333\n",
      "9    30          1     0.033333\n",
      "10   31          2     0.066667\n",
      "11   32          1     0.033333\n",
      "12   35          1     0.033333\n",
      "13   36          2     0.066667\n",
      "14   39          1     0.033333\n",
      "15   40          1     0.033333\n",
      "16   41          1     0.033333\n",
      "17   42          2     0.066667\n",
      "18   44          1     0.033333\n",
      "19   50          1     0.033333\n",
      "20   55          1     0.033333\n",
      "21   56          1     0.033333\n",
      "22   62          1     0.033333\n",
      "23   66          1     0.033333\n"
     ]
    }
   ],
   "source": [
    "prob_table = freq_table\n",
    "prob_table['Probability'] = freq_table['Frequency'] / len(df)\n",
    "print(prob_table)"
   ]
  },
  {
   "cell_type": "code",
   "execution_count": 17,
   "id": "d6e16d50",
   "metadata": {},
   "outputs": [
    {
     "data": {
      "image/png": "[encoded data removed]",
      "text/plain": [
       "<Figure size 640x480 with 1 Axes>"
      ]
     },
     "metadata": {},
     "output_type": "display_data"
    }
   ],
   "source": [
    "plt.bar(prob_table['Age'], prob_table['Probability'])\n",
    "plt.xlabel('Age')\n",
    "plt.ylabel('Probability')\n",
    "plt.title('Probability Distribution')\n",
    "plt.show()\n"
   ]
  },
  {
   "cell_type": "markdown",
   "id": "43090081",
   "metadata": {},
   "source": [
    "Q13. What is the shape of the distribution of this dataset? Create an\n",
    "appropriate graph to determine that. Take 100 random samples with\n",
    "replacement from this dataset of size 5 each. Create a sampling distribution of\n",
    "the mean age of customers. Compare with other sampling distributions of\n",
    "sample size 10, 15, 20, 25, 30. State your observations. Does it corroborate\n",
    "the Central Limit Theorem?"
   ]
  },
  {
   "cell_type": "code",
   "execution_count": 18,
   "id": "8505fedf",
   "metadata": {},
   "outputs": [
    {
     "data": {
      "image/png": "[encoded data removed]",
      "text/plain": [
       "<Figure size 640x480 with 1 Axes>"
      ]
     },
     "metadata": {},
     "output_type": "display_data"
    }
   ],
   "source": [
    "plt.hist(data)  # Adjust the number of bins as per your preference\n",
    "plt.xlabel('Age')\n",
    "plt.ylabel('Frequency')\n",
    "plt.title('Distribution of Customer Ages')\n",
    "plt.show()"
   ]
  },
  {
   "cell_type": "code",
   "execution_count": 19,
   "id": "091bcdb7",
   "metadata": {},
   "outputs": [
    {
     "data": {
      "image/png": "[encoded data removed]",
      "text/plain": [
       "<Figure size 640x480 with 1 Axes>"
      ]
     },
     "metadata": {},
     "output_type": "display_data"
    },
    {
     "data": {
      "image/png": "[encoded data removed]",
      "text/plain": [
       "<Figure size 640x480 with 1 Axes>"
      ]
     },
     "metadata": {},
     "output_type": "display_data"
    },
    {
     "data": {
      "image/png": "[encoded data removed]",
      "text/plain": [
       "<Figure size 640x480 with 1 Axes>"
      ]
     },
     "metadata": {},
     "output_type": "display_data"
    },
    {
     "data": {
      "image/png": "[encoded data removed]",
      "text/plain": [
       "<Figure size 640x480 with 1 Axes>"
      ]
     },
     "metadata": {},
     "output_type": "display_data"
    },
    {
     "data": {
      "image/png": "[encoded data removed]",
      "text/plain": [
       "<Figure size 640x480 with 1 Axes>"
      ]
     },
     "metadata": {},
     "output_type": "display_data"
    },
    {
     "data": {
      "image/png": "[encoded data removed]",
      "text/plain": [
       "<Figure size 640x480 with 1 Axes>"
      ]
     },
     "metadata": {},
     "output_type": "display_data"
    }
   ],
   "source": [
    "#e multiple sampling distributions by taking random samples with replacement from the dataset\n",
    "sample_sizes = [5, 10, 15, 20, 25, 30]\n",
    "num_samples = 100\n",
    "\n",
    "sampling_distributions = []\n",
    "\n",
    "for size in sample_sizes:\n",
    "    means = []\n",
    "    for _ in range(num_samples):\n",
    "        sample = np.random.choice(data, size=size, replace=True)\n",
    "        means.append(np.mean(sample))\n",
    "    sampling_distributions.append(means)\n",
    "    plt.hist(sampling_distributions)\n",
    "    plt.xlabel('Age')\n",
    "    plt.ylabel('Frequency')\n",
    "    plt.title('Distribution of Customer Ages')\n",
    "    plt.show()"
   ]
  },
  {
   "cell_type": "markdown",
   "id": "d403b8b3",
   "metadata": {},
   "source": [
    "As means tend to follow a normal distribution as the sample size increases, it would support the Central Limit Theorem."
   ]
  },
  {
   "cell_type": "markdown",
   "id": "8b5fe1e0",
   "metadata": {},
   "source": [
    "Q14. Treat this dataset as a binomial distribution where p is the probability\n",
    "that a person ordering an EV is above 50 years age. What is the probability\n",
    "that out of a random sample of 10 buyers exactly 6 are above 50 years of\n",
    "age?\n"
   ]
  },
  {
   "cell_type": "code",
   "execution_count": 20,
   "id": "e19fe524",
   "metadata": {},
   "outputs": [
    {
     "name": "stdout",
     "output_type": "stream",
     "text": [
      "Probability: 0.0006656716898846715\n"
     ]
    }
   ],
   "source": [
    "#Probability of exactly 6 out of 10 buyers above 50 years of age\n",
    "p = prob_table[prob_table['Age'] > 50]['Probability'].sum()\n",
    "n = 10\n",
    "k = 6\n",
    "binomial_prob = stats.binom.pmf(k, n, p)\n",
    "print('Probability:', binomial_prob)"
   ]
  },
  {
   "cell_type": "raw",
   "id": "e3a4a905",
   "metadata": {},
   "source": [
    "The probability that out of a random sample of 10 buyers exactly 6 are above 50 years of age is near to 0%."
   ]
  },
  {
   "cell_type": "markdown",
   "id": "5efb65cf",
   "metadata": {},
   "source": [
    "Q15. A study claims that 10% of all customers for an EV scooter are above 50\n",
    "years of age. Using the Normal approximation of a Binomial distribution, find\n",
    "the probability that in a random sample of 300 prospective customers exactly\n",
    "25 will be above 50 years of age.\n",
    "[ Note that the normal distribution can be used to approximate a binomial\n",
    "distribution if np>=5 and nq>=5 with the following correction for continuity\n",
    "P(X=z) = P(z-0.5 < X < z+0.5 ) ]"
   ]
  },
  {
   "cell_type": "code",
   "execution_count": 21,
   "id": "fe93d14a",
   "metadata": {},
   "outputs": [
    {
     "name": "stdout",
     "output_type": "stream",
     "text": [
      "Probability: 0.0509860415314796\n"
     ]
    }
   ],
   "source": [
    "#Probability of exactly 25 out of 300 prospective customers above 50 years of age\n",
    "#check this once\n",
    "p = 0.10\n",
    "n = 300\n",
    "k = 25\n",
    "binomial_prob = stats.binom.pmf(k, n, p)\n",
    "print('Probability:', binomial_prob)"
   ]
  },
  {
   "cell_type": "raw",
   "id": "60e2270d",
   "metadata": {},
   "source": [
    "The probability that out of a random sample of 300 buyers exactly 25 are above 50 years of age is 5%."
   ]
  },
  {
   "cell_type": "markdown",
   "id": "63d6c1dd",
   "metadata": {},
   "source": [
    "Q16. Compute a 95% Confidence Interval for the true mean age of the\n",
    "population of EV scooter buyers for the dataset using appropriate distribution.(\n",
    "State reasons as to why did you use a z or t distribution)"
   ]
  },
  {
   "cell_type": "code",
   "execution_count": 5,
   "id": "799ec559",
   "metadata": {
    "scrolled": true
   },
   "outputs": [
    {
     "name": "stdout",
     "output_type": "stream",
     "text": [
      "sample_size= 30\n"
     ]
    }
   ],
   "source": [
    "n = len(data)\n",
    "print(\"sample_size=\",n)"
   ]
  },
  {
   "cell_type": "markdown",
   "id": "b85d5910",
   "metadata": {},
   "source": [
    "we are using  t-distribution because the population standard deviation is unknown and sample size is 30"
   ]
  },
  {
   "cell_type": "code",
   "execution_count": 6,
   "id": "ac38b0b8",
   "metadata": {},
   "outputs": [
    {
     "name": "stdout",
     "output_type": "stream",
     "text": [
      "95% Confidence Interval for the true mean age of EV scooter buyers:\n",
      "(39.439574577575264, 29.493758755758076)\n"
     ]
    }
   ],
   "source": [
    "X_bar = np.mean(data)\n",
    "s = np.std(data, ddof=1)\n",
    "alpha=0.05\n",
    "\n",
    "t_score = stats.t.ppf( alpha/2, n-1)\n",
    "CI = (X_bar - t_score * s / np.sqrt(n), X_bar + t_score * s / np.sqrt(n))\n",
    "\n",
    "\n",
    "print(\"95% Confidence Interval for the true mean age of EV scooter buyers:\")\n",
    "print(CI)"
   ]
  },
  {
   "cell_type": "raw",
   "id": "65ffaa55",
   "metadata": {},
   "source": [
    "The lower limit is 29.493758755758076 and upper limit is 39.43957457757526."
   ]
  },
  {
   "cell_type": "markdown",
   "id": "5382c165",
   "metadata": {},
   "source": [
    "Q17. A data scientist wants to estimate with 95% confidence the proportion of\n",
    "people who own an EV in the population. A recent study showed that 20% of\n",
    "people interviewed had an EV. The data scientist wants to be accurate within\n",
    "2% of the true proportion. Find the minimum sample size necessary"
   ]
  },
  {
   "cell_type": "code",
   "execution_count": 24,
   "id": "92a2a2f4",
   "metadata": {},
   "outputs": [
    {
     "name": "stdout",
     "output_type": "stream",
     "text": [
      "The minimum sample size required is 1537.0\n"
     ]
    }
   ],
   "source": [
    "p_star = 0.20\n",
    "alpha=0.05\n",
    "q_star = 0.80\n",
    "z_alpha_by_2 =stats.norm.isf(alpha/2)\n",
    "E = 0.02\n",
    "\n",
    "n = np.round((p_star * q_star * (z_alpha_by_2 / E) ** 2))\n",
    "print(\"The minimum sample size required is\",n)"
   ]
  },
  {
   "cell_type": "raw",
   "id": "b707cede",
   "metadata": {},
   "source": [
    "Minimum sample size necessary to estimate the proportion of people who own an EV with a 95% confidence level and a margin of error of 2% is approximately 1537."
   ]
  },
  {
   "cell_type": "markdown",
   "id": "6e7494cd",
   "metadata": {},
   "source": [
    "Q18. The same data scientist wants to estimate the proportion of executives\n",
    "who own an EV. She wants to be 90% confident and accurate within 5% of\n",
    "true proportion. Find the minimum sample size necessary"
   ]
  },
  {
   "cell_type": "code",
   "execution_count": 25,
   "id": "676b8e50",
   "metadata": {},
   "outputs": [
    {
     "name": "stdout",
     "output_type": "stream",
     "text": [
      "The minimum sample size required is 173.0\n"
     ]
    }
   ],
   "source": [
    "p_star = 0.20\n",
    "alpha=0.10\n",
    "q_star = 0.80\n",
    "z_alpha_by_2 =stats.norm.isf(alpha/2)\n",
    "E = 0.05\n",
    "\n",
    "n = np.round((p_star * q_star * (z_alpha_by_2 / E) ** 2))\n",
    "print(\"The minimum sample size required is\",n)"
   ]
  },
  {
   "cell_type": "markdown",
   "id": "f544e6c9",
   "metadata": {},
   "source": [
    "Q19. A researcher claims that currently 20% of the population are owning\n",
    "EVs. Test his claim with an alpha =0.05 if out of a random sample of 30\n",
    "two-wheeler owners only 5 own an EV"
   ]
  },
  {
   "cell_type": "raw",
   "id": "5169163f",
   "metadata": {},
   "source": [
    "Framing Hypothesis:\n",
    "\n",
    "H0 : Population that are owning EV is currently 20%.\n",
    "Ha : Population that are owning Ev is currently not 20%."
   ]
  },
  {
   "cell_type": "code",
   "execution_count": 31,
   "id": "6f0836d2",
   "metadata": {},
   "outputs": [
    {
     "name": "stdout",
     "output_type": "stream",
     "text": [
      "0.8205425178645821\n",
      "Fail to reject the null hypothesis. The researcher's claim is not supported.\n"
     ]
    }
   ],
   "source": [
    "n=30\n",
    "x=5\n",
    "p=0.2\n",
    "alpha=0.05\n",
    "p_value =stats.binom_test(x, n, p)\n",
    "print(p_value)\n",
    "if p_value < alpha:\n",
    "    print(\"Reject the null hypothesis. The researcher's claim is supported.\")\n",
    "else:\n",
    "    print(\"Fail to reject the null hypothesis. The researcher's claim is not supported.\")"
   ]
  },
  {
   "cell_type": "markdown",
   "id": "d865d989",
   "metadata": {},
   "source": [
    "Q20. Assume you are working for a Consumer Protection Agency that looks at\n",
    "complaints raised by customers for the transportation industry. Say you have\n",
    "been receiving complaints about the mileage of the latest EV launched by the\n",
    "Zen Automotives. Zen allows you to test randomly 40 of its new EVs to test\n",
    "mileage. Zen claims that the new EVs get a mileage of 96 kmpl on the\n",
    "highway. Your results show a mean of 91.3 kmpl and a standard deviation of\n",
    "14.4.\n",
    "a. Show why you support Zen’s claim using the P-value obtained"
   ]
  },
  {
   "cell_type": "markdown",
   "id": "9d7aba2e",
   "metadata": {},
   "source": [
    "a. Show why you support Zen’s claim using the P-value obtained.\n",
    "\n",
    "b. After more complaints you decide to test the variability of the mileage on the highway. On questioning Zen’s quality control engineer , you find that they are claiming a standard deviation of 7.2. Test the claim about the standard deviation. [Hint :use the Chi-square test for variance/standard deviation]\n",
    "\n",
    "c. Write a summary of results and the action that Zen must take to remedy the complaints.\n",
    "\n",
    "d. What is your position on performing the test for variability along with thetest for means?"
   ]
  },
  {
   "cell_type": "markdown",
   "id": "3fff4719",
   "metadata": {},
   "source": [
    "20a. Show why you support Zen’s claim using the P-value obtained."
   ]
  },
  {
   "cell_type": "markdown",
   "id": "1226d3ab",
   "metadata": {},
   "source": [
    "Framing hypothisis:\n",
    "\n",
    "H0: The new EVs got a mileage of equal to 96 kmpl on the highway(mu=96)\n",
    "\n",
    "Ha : The new EVs got a mileage of not equal to 96 kmpl on the highway(mu<>96)"
   ]
  },
  {
   "cell_type": "code",
   "execution_count": 36,
   "id": "8044be04",
   "metadata": {},
   "outputs": [
    {
     "name": "stdout",
     "output_type": "stream",
     "text": [
      "p-value =  [0.0456893]\n",
      "We reject the null hypothesis that the true mean mileage is 96 kmpl.\n"
     ]
    }
   ],
   "source": [
    "mileage = np.array([91.3])\n",
    "n = 40\n",
    "s = 14.4\n",
    "mu = 96\n",
    "\n",
    "\n",
    "t_stat = (mileage - mu) / (s / np.sqrt(n))\n",
    "p_value = stats.t.sf(np.abs(t_stat), n - 1) * 2\n",
    "print(\"p-value = \",p_value)\n",
    "if p_value > 0.05:\n",
    "    print(\"We fail to reject the null hypothesis that the true mean mileage is 96 kmpl.\")\n",
    "else:\n",
    "    print(\"We reject the null hypothesis that the true mean mileage is 96 kmpl.\")\n"
   ]
  },
  {
   "cell_type": "markdown",
   "id": "8dcbecb7",
   "metadata": {},
   "source": [
    "20b. After more complaints you decide to test the variability of the mileage on the highway. On questioning Zen’s quality control engineer , you find that they are claiming a standard deviation of 7.2. Test the claim about the standard deviation. [Hint :use the Chi-square test for variance/standard deviation]\n",
    "Framing hypothisis:\n",
    "\n",
    "H0 : The population standard deviation on the highway is 7.2(sigma = 7.2)\n",
    "\n",
    "Ha : The population standard deviation on the highway is 7.2(sigma != 7.2)"
   ]
  },
  {
   "cell_type": "code",
   "execution_count": 39,
   "id": "ee3e79df",
   "metadata": {},
   "outputs": [
    {
     "name": "stdout",
     "output_type": "stream",
     "text": [
      "chi2_stat = 156.0000\n",
      "chi2_left = 23.6543\n",
      "chi2_right = 58.1201\n",
      "We reject the null hypothesis that the true standard deviation is 7.2 kmpl.\n"
     ]
    }
   ],
   "source": [
    "# b. Test the claim about the standard deviation.\n",
    "alpha = 0.05\n",
    "df = n - 1\n",
    "chi2_left = chi2.ppf(alpha / 2, df)\n",
    "chi2_right = chi2.ppf(1 - alpha / 2, df)\n",
    "chi2_stat = (n - 1) * s ** 2 / 7.2 ** 2\n",
    "print(f\"chi2_stat = {chi2_stat:.4f}\")\n",
    "print(f\"chi2_left = {chi2_left:.4f}\")\n",
    "print(f\"chi2_right = {chi2_right:.4f}\")\n",
    "if chi2_left < chi2_stat < chi2_right:\n",
    "    print(\"We fail to reject the null hypothesis that the true standard deviation is 7.2 kmpl.\")\n",
    "else:\n",
    "    print(\"We reject the null hypothesis that the true standard deviation is 7.2 kmpl.\")\n"
   ]
  },
  {
   "cell_type": "code",
   "execution_count": 40,
   "id": "5a5c36f2",
   "metadata": {},
   "outputs": [],
   "source": [
    "# c. Write a summary of results and the action that Zen must take to remedy the complaints.\n",
    "if p_value > 0.05 and chi2_left < chi2_stat < chi2_right:\n",
    "    print(\"The test results show that Zen's claim of 96 kmpl mileage is statistically supported. However, the complaints raised by customers suggest that the actual mileage is lower than the claimed mileage. Zen should investigate the cause of the low mileage and take necessary steps to improve the mileage of its EVs.\")\n"
   ]
  },
  {
   "cell_type": "code",
   "execution_count": 41,
   "id": "0185393c",
   "metadata": {},
   "outputs": [
    {
     "name": "stdout",
     "output_type": "stream",
     "text": [
      "Performing the test for variability along with the test for means is a good practice. It helps to ensure that the sample data is consistent with the population parameters and provides a more comprehensive understanding of the data.\n"
     ]
    }
   ],
   "source": [
    "# d. What is your position on performing the test for variability along with the test for means?\n",
    "print(\"Performing the test for variability along with the test for means is a good practice. It helps to ensure that the sample data is consistent with the population parameters and provides a more comprehensive understanding of the data.\")"
   ]
  },
  {
   "cell_type": "markdown",
   "id": "c7d23eb3",
   "metadata": {},
   "source": [
    "Q21. Write a report comparing and contrasting Descriptive vs Inferential Statistics in about 200-500 words and how each helps to get more insight into the data at hand."
   ]
  },
  {
   "cell_type": "markdown",
   "id": "1c08c861",
   "metadata": {},
   "source": [
    "###### Introduction:\n",
    "\n",
    "Statistics plays a crucial role in extracting meaningful insights from data, aiding decision-making processes across various domains. Two fundamental branches of statistics, descriptive and inferential, serve distinct purposes in understanding and interpreting data. This report aims to compare and contrast descriptive and inferential statistics and elucidate how each contributes to gaining insights from the data at hand.\n",
    "\n",
    "##### Descriptive Statistics:\n",
    "\n",
    "Descriptive statistics involves the presentation and summarization of data in a meaningful manner. Measures such as mean, median, mode, range, and standard deviation fall under this category. The primary objective is to provide a concise summary that describes the essential features of a dataset. Descriptive statistics are valuable for simplifying complex data sets into manageable and interpretable forms, allowing researchers and analysts to identify patterns, trends, and central tendencies easily.\n",
    "\n",
    "For example, calculating the mean and standard deviation of a set of test scores helps educators understand the average performance and the degree of variability among students. Histograms and box plots are graphical representations used in descriptive statistics to visualize the distribution of data.\n",
    "\n",
    "##### Inferential Statistics:\n",
    "\n",
    "Inferential statistics, on the other hand, involves making inferences or predictions about a population based on a sample of data. This branch extends beyond the immediate dataset and delves into broader implications and generalizations. Techniques like hypothesis testing, regression analysis, and confidence intervals are common tools in inferential statistics.\n",
    "\n",
    "How Each Provides Insight:\n",
    "\n",
    "##### Descriptive Statistics:\n",
    "\n",
    "Provides a snapshot of the data, allowing for a quick understanding of central tendencies and variability. Facilitates the identification of patterns and trends within the dataset. Enhances data comprehension through visualizations like graphs and charts.\n",
    "\n",
    "##### Inferential Statistics:\n",
    "\n",
    "Enables predictions and generalizations about a larger population based on a representative sample. Tests hypotheses and evaluates the significance of observed effects. Helps in decision-making by providing a basis for making predictions or drawing conclusions beyond the immediate data.\n",
    "\n",
    "##### Conclusion:\n",
    "\n",
    "In conclusion, while descriptive statistics simplifies and organizes data to offer a snapshot of its characteristics, inferential statistics goes a step further, making predictions and drawing conclusions about a broader population. Together, these two branches provide a comprehensive toolkit for researchers and analysts to extract meaningful insights from data, guiding informed decision-making processes. The synergy between descriptive and inferential statistics is essential for a holistic understanding of the complexities within datasets."
   ]
  }
 ],
 "metadata": {
  "kernelspec": {
   "display_name": "Python 3 (ipykernel)",
   "language": "python",
   "name": "python3"
  },
  "language_info": {
   "codemirror_mode": {
    "name": "ipython",
    "version": 3
   },
   "file_extension": ".py",
   "mimetype": "text/x-python",
   "name": "python",
   "nbconvert_exporter": "python",
   "pygments_lexer": "ipython3",
   "version": "3.11.4"
  }
 },
 "nbformat": 4,
 "nbformat_minor": 5
}
